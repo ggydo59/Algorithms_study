{
  "nbformat": 4,
  "nbformat_minor": 0,
  "metadata": {
    "colab": {
      "provenance": [],
      "authorship_tag": "ABX9TyMWpBTKBFSdhPepi8zZjbB8",
      "include_colab_link": true
    },
    "kernelspec": {
      "name": "python3",
      "display_name": "Python 3"
    },
    "language_info": {
      "name": "python"
    }
  },
  "cells": [
    {
      "cell_type": "markdown",
      "metadata": {
        "id": "view-in-github",
        "colab_type": "text"
      },
      "source": [
        "<a href=\"https://colab.research.google.com/github/ggydo59/Algorithms_study/blob/main/Algorithm_note.ipynb\" target=\"_parent\"><img src=\"https://colab.research.google.com/assets/colab-badge.svg\" alt=\"Open In Colab\"/></a>"
      ]
    },
    {
      "cell_type": "code",
      "execution_count": null,
      "metadata": {
        "id": "bLsQjI9tvd09"
      },
      "outputs": [],
      "source": [
        "### 2차원 배열 90도 회전\n",
        "def rotate_90(a):\n",
        "    n, m = len(a), len(a[0])\n",
        "    res = [[0]*n for _ in range(m)]\n",
        "    for i in range(n):\n",
        "        for j in range(m):\n",
        "            res[j][(n-i-1)] = a[i][j]\n",
        "    return res"
      ]
    },
    {
      "cell_type": "markdown",
      "source": [
        "# 다익스트라 최단 경로 알고리즘\n",
        "시작 노드에서 모든 노드까지의 모든 최단 경로를 구하는 알고리즘.<br>\n",
        "그리디 알고리즘에 속하며, 시작 노드로부터 방문하지 않은 노드 중 최단 경로인 노드로 이동하며 각 노드의 최단 거리를 갱신하며 순회하는 알고리즘이다.<br>\n",
        "다익스트라 알고리즘은 '방문하지 않은 노드 중에서 가장 최단 거리가 짧은 노드를 선택'하는 과정을 반복하는데, 이렇게 선택된 노드는 '최단 거리가'가 완전히 선택된 노드이므로\n",
        "노드가 선택될 때 마다 하나의 노드에 대한 최단 거리를 확실히 찾는 것으로 이해할 수 있다."
      ],
      "metadata": {
        "id": "qdgwkA015A0u"
      }
    },
    {
      "cell_type": "code",
      "source": [
        "\"\"\"\n",
        "다익스트라 최단 경로 알고리즘\n",
        "\n",
        "< 개념 >\n",
        "\n",
        "시작 노드에서 모든 노드까지의 모든 최단 경로를 구하는 알고리즘.\n",
        "그리디 알고리즘에 속하며, 시작 노드로부터 방문하지 않은 노드 중 최단 경로인 노드로 이동하며 각 노드의 최단 거리를 갱신하며 순회하는 알고리즘이다.\n",
        "다익스트라 알고리즘은 '방문하지 않은 노드 중에서 가장 최단 거리가 짧은 노드를 선택'하는 과정을 반복하는데, 이렇게 선택된 노드는 '최단 거리가'가 완전히 선택된 노드이므로\n",
        "노드가 선택될 때 마다 하나의 노드에 대한 최단 거리를 확실히 찾는 것으로 이해할 수 있다.\n",
        "\n",
        "\"\"\"\n",
        "\n",
        "# 방법 1 코랩에서는 안되는 듯 input의 속도를 올리는 아래 방법이 안되는 듯듯\n",
        "# import sys\n",
        "# input = sys.stdin.readline\n"
      ],
      "metadata": {
        "id": "M87jqzKwvmJP"
      },
      "execution_count": 16,
      "outputs": []
    },
    {
      "cell_type": "code",
      "source": [
        "INF = int(1e9)\n",
        "# 노드의 개수, 간선의 개수를 입력받기\n",
        "n, m = map(int, input().split())\n",
        "# 시작 노드 번호를 입력 받기\n",
        "start = int(input())\n",
        "# 각 노드에 연결되어 있는 노드에 대한 정보를 담는 리스트를 만들기\n",
        "graph = [[] for i in range(n+1)]\n",
        "# 방문한 적이 있는지 체크하는  목적의 리스트 만들기\n",
        "visited = [False] * (n+1)\n",
        "# 최단 거리 테이블의 값들을 무한대로 초기화\n",
        "distance = [INF] * (n+1)"
      ],
      "metadata": {
        "colab": {
          "base_uri": "https://localhost:8080/"
        },
        "id": "ZUVHXsCkbClY",
        "outputId": "a12d4929-c3da-423e-bff6-3943815d9a22"
      },
      "execution_count": 2,
      "outputs": [
        {
          "name": "stdout",
          "output_type": "stream",
          "text": [
            "6 11\n",
            "1\n"
          ]
        }
      ]
    },
    {
      "cell_type": "code",
      "source": [
        "# 모든 간선 정보 입력받기\n",
        "for _ in range(m):\n",
        "  a, b, c = map(int, input().split())\n",
        "  graph[a].append((b,c))\n",
        "\n",
        "# 방문하지 않은 노드 중에서, 가장 최단 거리가 짧은 노드의 번호를 반환\n",
        "\n",
        "def get_smallest_node():\n",
        "  min_value = INF\n",
        "  index = 0 # 가장 최단 거리가 짧은 노드(index)\n",
        "  for i in range(1, n+1):\n",
        "    if distance[i] < min_value and not visited[i]:\n",
        "      min_value = distance[i]\n",
        "      index = i\n",
        "  return index\n",
        "\n",
        "def dijkstra(start):\n",
        "    # 시작 노드에 대해서 초기화\n",
        "    distance[start] = 0\n",
        "    visited[start] = True\n",
        "    for j in graph[start]:\n",
        "      distance[j[0]] = j[1]\n",
        "    # 시작 노드를 제외한 전체 n-1개의 노드에 대해 반복\n",
        "    for i in range(n-1):\n",
        "      # 현재 최단 거리가 가장 짧은 노드를 꺼내서, 방문 처리\n",
        "      now = get_smallest_node()\n",
        "      visited[now] = True\n",
        "      # 현재 노드와 연결된 다른 노드를 확인\n",
        "      for j in graph[now]:\n",
        "        cost = distance[now] + j[1]\n",
        "        # 현재 노드를 거쳐서 다르 노드로 이동하는 거리가 더 짧은 경우\n",
        "        if cost < distance[j[0]]:\n",
        "          distance[j[0]] = cost\n",
        "# 다익스트라(start)\n",
        "dijkstra(start)\n",
        "\n",
        "for i in range(1, n+1):\n",
        "  # 도달할 수 없는 경우, 무한(INFINITY)이라고 출력\n",
        "  if distance[i] == INF:\n",
        "    print(\"INFINITY\")\n",
        "    # 도달할 수 있는 경우 거리를 출력\n",
        "  else:\n",
        "    print(distance[i])"
      ],
      "metadata": {
        "colab": {
          "base_uri": "https://localhost:8080/"
        },
        "id": "CpBMyc3Sa41F",
        "outputId": "fdfb81b4-29ce-4b12-ba04-d9d01770725b"
      },
      "execution_count": 4,
      "outputs": [
        {
          "output_type": "stream",
          "name": "stdout",
          "text": [
            "1 2 2\n",
            "1 3 5\n",
            "1 4 1\n",
            "2 3 3\n",
            "2 4 2\n",
            "3 2 3\n",
            "3 6 5\n",
            "4 3 3\n",
            "4 5 1\n",
            "5 3 1\n",
            "5 6 2\n",
            "0\n",
            "2\n",
            "3\n",
            "1\n",
            "2\n",
            "4\n"
          ]
        }
      ]
    },
    {
      "cell_type": "markdown",
      "source": [
        "### 간단히 구현한 다익스트라 알고리즘의 시간복잡도\n",
        "시간 복잡도는 O(v^2) 이지만 개선된 방법을 사용하면 O(ElogV)를 보장하여 해결할 수 있다."
      ],
      "metadata": {
        "id": "e6ccYCfuglU1"
      }
    },
    {
      "cell_type": "markdown",
      "source": [
        "## 방법 2. 개선된 다익스트라 알고리즘\n",
        "최소 Heap 자료 구조를 활용하여 현재 노드에서 가장 가까운 노드를 뽑아냄<br>\n",
        "이렇게 하면 각 간선의 개수 E 힙 자료구조를 활용한 노드의 탐색 시간 logV을 곱해서 시작 노드에서 부터 모든 노드 까지의 거리를 구하는데 걸리는 시간은 ElogV이 된다."
      ],
      "metadata": {
        "id": "7wA8teiUgiHH"
      }
    },
    {
      "cell_type": "code",
      "source": [
        "import heapq\n",
        "INF = int(1e9)\n",
        "\n",
        "# 노드 개수 간선 개수 입력 받기\n",
        "n, m = map(int, input().split())\n",
        "start = int(input())\n",
        "graph = [[] for i in range(n+1)]\n",
        "distance = [INF]*(n+1)\n",
        "\n",
        "# 모든 간선 정보 입력받기\n",
        "for _ in range(m):\n",
        "  a, b, c = map(int, input().split())\n",
        "  graph[a].append((b,c))\n",
        "\n",
        "def dijkstra(start):\n",
        "  q = []\n",
        "\n",
        "  heapq.heappush(q, (0, start))\n",
        "  distance[start] = 0\n",
        "  while q:\n",
        "    # 가장 최단 거리의 노드 정보 꺼내기\n",
        "    dist, now = heapq.heappop(q)\n",
        "    # 현재 노드가 처리된 적이 있다면 무시\n",
        "    if distance[now] < dist:\n",
        "      continue\n",
        "    # 현재 노드와 연결된 다른 인접한 노드를 확인\n",
        "    for i in graph[now]:\n",
        "      cost = dist + i[1]\n",
        "      # 현재 노드를 거쳐서, 다른 노드로 이동하는 거리가 더 짧은 경우\n",
        "      if cost < distance[i[0]]:\n",
        "        distance[i[0]] = cost\n",
        "        heapq.heappush(q, (cost, i[0]))\n",
        "  \n",
        "# 다익스트라 알고리즘 수행\n",
        "dijkstra(start)\n",
        "\n",
        "for i in range(1, n+1):\n",
        "  # 도달할 수 없는 경우, 무한(INFINITY)이라고 출력\n",
        "  if distance[i] == INF:\n",
        "    print(\"INFINITY\")\n",
        "    # 도달 할 수 있는 경우 거리 출력\n",
        "  else:\n",
        "    print(distance[i])"
      ],
      "metadata": {
        "colab": {
          "base_uri": "https://localhost:8080/"
        },
        "id": "wOUID9GWggp0",
        "outputId": "1cd38a2a-fe92-49e5-c9ec-61614320f5c0"
      },
      "execution_count": 9,
      "outputs": [
        {
          "output_type": "stream",
          "name": "stdout",
          "text": [
            "6 11\n",
            "1\n",
            "1 2 2\n",
            "1 3 5\n",
            "1 4 1\n",
            "2 3 3\n",
            "2 4 2\n",
            "3 2 3\n",
            "3 6 5\n",
            "4 3 3\n",
            "4 5 1\n",
            "5 3 1\n",
            "5 6 2\n",
            "0\n",
            "2\n",
            "3\n",
            "1\n",
            "2\n",
            "4\n"
          ]
        }
      ]
    }
  ]
}