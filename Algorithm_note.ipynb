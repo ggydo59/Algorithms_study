{
  "nbformat": 4,
  "nbformat_minor": 0,
  "metadata": {
    "colab": {
      "provenance": [],
      "authorship_tag": "ABX9TyOJOGdf1Eg2Eg7it2H4gRGL",
      "include_colab_link": true
    },
    "kernelspec": {
      "name": "python3",
      "display_name": "Python 3"
    },
    "language_info": {
      "name": "python"
    }
  },
  "cells": [
    {
      "cell_type": "markdown",
      "metadata": {
        "id": "view-in-github",
        "colab_type": "text"
      },
      "source": [
        "<a href=\"https://colab.research.google.com/github/ggydo59/Algorithms_study/blob/main/Algorithm_note.ipynb\" target=\"_parent\"><img src=\"https://colab.research.google.com/assets/colab-badge.svg\" alt=\"Open In Colab\"/></a>"
      ]
    },
    {
      "cell_type": "code",
      "execution_count": null,
      "metadata": {
        "id": "bLsQjI9tvd09"
      },
      "outputs": [],
      "source": [
        "### 2차원 배열 90도 회전\n",
        "def rotate_90(a):\n",
        "    n, m = len(a), len(a[0])\n",
        "    res = [[0]*n for _ in range(m)]\n",
        "    for i in range(n):\n",
        "        for j in range(m):\n",
        "            res[j][(n-i-1)] = a[i][j]\n",
        "    return res"
      ]
    },
    {
      "cell_type": "code",
      "source": [],
      "metadata": {
        "id": "M87jqzKwvmJP"
      },
      "execution_count": null,
      "outputs": []
    }
  ]
}