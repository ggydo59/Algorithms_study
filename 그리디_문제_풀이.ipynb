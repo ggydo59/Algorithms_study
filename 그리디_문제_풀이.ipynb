{
  "nbformat": 4,
  "nbformat_minor": 0,
  "metadata": {
    "colab": {
      "provenance": [],
      "authorship_tag": "ABX9TyMRR8ueRIpdrH2HqwOjenUW",
      "include_colab_link": true
    },
    "kernelspec": {
      "name": "python3",
      "display_name": "Python 3"
    },
    "language_info": {
      "name": "python"
    }
  },
  "cells": [
    {
      "cell_type": "markdown",
      "metadata": {
        "id": "view-in-github",
        "colab_type": "text"
      },
      "source": [
        "<a href=\"https://colab.research.google.com/github/ggydo59/Algorithms_study/blob/main/%EA%B7%B8%EB%A6%AC%EB%94%94_%EB%AC%B8%EC%A0%9C_%ED%92%80%EC%9D%B4.ipynb\" target=\"_parent\"><img src=\"https://colab.research.google.com/assets/colab-badge.svg\" alt=\"Open In Colab\"/></a>"
      ]
    },
    {
      "cell_type": "markdown",
      "source": [
        "# 모험가길드\n",
        "> 한 마을에 모험가가 N명 있습니다. 모험가 길드에서는 N명의 모험가를 대상으로 '공포도'를 측정했는데, '공포도'가 높은 모험가는 쉽게 공포를 느껴 위험 상황에서 제대로 대처할 능력이 떨어집니다. 모험가 길드장인 동빈이는 모험가 그룹을 안전하게 구성하고자 공포도가 X인 모험가는 반드시 X명 이상으로 구성한 모험가 그룹에 참여해야 여행을 떠날 수 있도록 규정했습니다. 동빈이는 최대 몇개의 모험가 그룹을 만들 수 있는지 궁금합니다.\n",
        "도입닝를 위해 N명의 모험가에 대한 정보가 주어졌을 때, 여행을 떠날 수 있는 그룹 수의 최댓값을 구하는 프로그램을 작성하세요.<br>\n",
        "## 입력 조건\n",
        "> 1 <= N <= 100,000 <br>\n",
        "1 <= len(fears) <= 100,000<br>\n",
        "fears의 성분인 공포도는 N이하의 자연수\n",
        "\n",
        "## 예시\n",
        ">N, fears = 5, [2,3,1,2,2]\n",
        "## 결과\n",
        ">2\n",
        "\n",
        "### 생각해보기\n",
        "> 공포도에 해당하는 만큼 그룹을 구성할 수 있으므로\n",
        "1. fears를 오름차순 정렬한다.\n",
        "2. fears.pop()을 통해 가장 큰 값을 추출하여 p변수에 넣어준다.\n",
        "3. p값이 len(fears) + 1 보다 클 경우에는 그룹을 더 이상 구성할 수 없으므로 반복문 탈출\n",
        "4. p - 1 만큼 pop()을 반복하여 그룹을 구성한 것으로 침 (이미 한번의 pop()을 거쳤으므로 p-1만큼)\n",
        "5. 그룹 구성이 끝나면 answer에 1을 더해줌.\n"
      ],
      "metadata": {
        "id": "WPnkrrgvsNvH"
      }
    },
    {
      "cell_type": "code",
      "source": [
        "def solution1(n,fears):\n",
        "  answer = 0\n",
        "  fears.sort()\n",
        "  print(fears) \n",
        "  while fears:\n",
        "    p = fears.pop()\n",
        "    \n",
        "    if p > len(fears)+1:\n",
        "      break\n",
        "    for _ in range(p-1):\n",
        "      fears.pop()\n",
        "      print(fears)\n",
        "    answer += 1\n",
        "  return answer"
      ],
      "metadata": {
        "id": "y1enLut7KgN1"
      },
      "execution_count": null,
      "outputs": []
    },
    {
      "cell_type": "code",
      "source": [
        "solution1(5, [2,3,1,2,2,6])"
      ],
      "metadata": {
        "colab": {
          "base_uri": "https://localhost:8080/"
        },
        "id": "XudKxh7tKhxb",
        "outputId": "f5f6437a-c6eb-4902-bb2c-a3040818c4a2"
      },
      "execution_count": null,
      "outputs": [
        {
          "output_type": "stream",
          "name": "stdout",
          "text": [
            "[1, 2, 2, 2, 3, 6]\n",
            "[1, 2, 2, 2]\n",
            "[1, 2, 2]\n",
            "[1, 2]\n",
            "[1]\n",
            "[]\n"
          ]
        },
        {
          "output_type": "execute_result",
          "data": {
            "text/plain": [
              "1"
            ]
          },
          "metadata": {},
          "execution_count": 44
        }
      ]
    },
    {
      "cell_type": "markdown",
      "source": [
        "# 곱하기 혹은 더하기\n",
        "> 각 자리가 숫자로만 이루어진 문자열 S가 주어졌을 때, 왼쪽부터 오른쪽으로 하나씩 모든 숫자를 확인하며 숫자 사이에 'X' 혹은 '+'연산자를 넣어 결과적으로 만들어질 수 있는 가장 큰 수를 구하는 프로그램을 작성하세요. 단 +보다 X를 먼저 계산하는 일반적인 방식과는 달리 모든 연산은 오니쪽에서부터 순서대로 이루어진다고 가정합니다. <br><br>\n",
        "> 예를 들어 02984라는 문자열이 주어지면 만들어질 수 있는 가장 큰수는 576이 됩니다. 또한 만들어질 수 있는 가장 큰 수는 항상 20억 이하의 정수가 되도록 입력이 주어집니다.\n",
        "## 입력조건\n",
        "> 1 <= len(s) <= 20\n",
        "## 결과\n",
        "> 만들어 질수 있는 가장 큰 수 출력. (출력 값은 20억 이하가 되도록 입력 조건이 주어짐)\n",
        "## 생각해보기\n",
        "> 가장 큰 수를 만들려면 0 or 1인 경우에는 더하고 2~9의 경우에는 곱하면 된다. (앞에서부터 순차적으로 연산이 진행되므로)"
      ],
      "metadata": {
        "id": "mNy6-szidupI"
      }
    },
    {
      "cell_type": "code",
      "source": [
        "def solution2(s):\n",
        "  answer = 0\n",
        "  for i in s:\n",
        "    i = int(i)    \n",
        "    if answer != 0:\n",
        "      if i < 2:\n",
        "        answer += i    \n",
        "      else:\n",
        "        answer *= i\n",
        "    else:\n",
        "      answer += i\n",
        "    print(i,answer)\n",
        "  \n",
        "  return answer"
      ],
      "metadata": {
        "id": "QtwSvn7GPkPe"
      },
      "execution_count": null,
      "outputs": []
    },
    {
      "cell_type": "code",
      "source": [
        "solution2(\"567\")"
      ],
      "metadata": {
        "colab": {
          "base_uri": "https://localhost:8080/"
        },
        "id": "KnVYk9ivSB5Q",
        "outputId": "e19c6489-6f3f-4f21-e581-81efd267d804"
      },
      "execution_count": null,
      "outputs": [
        {
          "output_type": "stream",
          "name": "stdout",
          "text": [
            "5 5\n",
            "6 30\n",
            "7 210\n"
          ]
        },
        {
          "output_type": "execute_result",
          "data": {
            "text/plain": [
              "210"
            ]
          },
          "metadata": {},
          "execution_count": 58
        }
      ]
    },
    {
      "cell_type": "markdown",
      "source": [
        "# 문자열 뒤집기\n",
        ">\n",
        "다솜이는 0과 1로만 이루어진 문자열 S를 가지고 있습니다. 다솜이는 이 문자열 S에 있는 모든 숫자를 전부 같게 만들려고합니다. 다솜이가 할 수 있는 행동은 S에서 연속된 하나 이상의 숫자를 잡고 모두 뒤집는 것입니다. 뒤집는 것은 1을 0으로, 0을 1로 바꾸는 것을 의미합니다.<br>\n",
        "예를 들어 S = 0001100 일 때 다음과 같습니다.\n",
        "1. 전체를 뒤집으면 1110011이 됩니다.\n",
        "2. 4번째 문자부터 5번째 문자까지 문자를 뒤집으면 한 번에 0000000이 되어서 두 번만에 모두 같은 숫자로 만들 수 있습니다.<br>\n",
        ">\n",
        "그러나 4,5번째를 뒤집으면 한 번 만에 00000000이 되어 최솟값은 1이 됩니다.\n",
        "## 입력 조건\n",
        "> 0과 1로 이루어진 문자열 numbers가 주어진다. numbers의 길이는 100만보다 작다.\n",
        "## 출력 조건\n",
        "> 다솜이가 해야할 행동의 최소 횟수를 구한다.\n",
        "## 생각해보기\n",
        "> 모두 0으로 바꾸는 방법과 모두 1로 바꾸는 방법을 모두 진행해서 둘 중 해야할 행동의 최소값을 정답으로 출력한다.예상 시간 복잡도는 문자열의 길이 만큼 탐색을 해야하므로 O(N)이다."
      ],
      "metadata": {
        "id": "GjjHgwDc1g2r"
      }
    },
    {
      "cell_type": "code",
      "source": [
        "def solution3(numbers):\n",
        "  tmp1, tmp2 = 0, 0 \n",
        "  i = 0\n",
        "  while i >= 0 and i < len(numbers):\n",
        "    print(i)\n",
        "     # 0을 찾으면, 1이 나올때 까지 탐색 (dfs)\n",
        "    if numbers[i] == '0':\n",
        "      while i< len(numbers):        \n",
        "        if numbers[i] == '1':\n",
        "          break\n",
        "        i+= 1\n",
        "      tmp1 += 1\n",
        "    else:\n",
        "    # 1을 찾으면, 0이 나올때 까지 탐색\n",
        "      while i < len(numbers):\n",
        "        if numbers[i] == '0':\n",
        "          break\n",
        "        i+= 1\n",
        "      tmp2 += 1 \n",
        "  print(\"tmp1,tmp2\",tmp1,tmp2)\n",
        "  return min(tmp1,tmp2)\n"
      ],
      "metadata": {
        "id": "DQkui_K76kRc"
      },
      "execution_count": null,
      "outputs": []
    },
    {
      "cell_type": "code",
      "source": [
        "solution3(\"00111001010001\")"
      ],
      "metadata": {
        "colab": {
          "base_uri": "https://localhost:8080/"
        },
        "id": "ZCYyhaPC9Bam",
        "outputId": "bb52ca28-ed95-4b9d-f956-1d39cbd8f23c"
      },
      "execution_count": null,
      "outputs": [
        {
          "output_type": "stream",
          "name": "stdout",
          "text": [
            "0\n",
            "2\n",
            "5\n",
            "7\n",
            "8\n",
            "9\n",
            "10\n",
            "13\n",
            "tmp1,tmp2 4 4\n"
          ]
        },
        {
          "output_type": "execute_result",
          "data": {
            "text/plain": [
              "4"
            ]
          },
          "metadata": {},
          "execution_count": 109
        }
      ]
    },
    {
      "cell_type": "markdown",
      "source": [
        "# 만들 수 없는 금액\n",
        "> 동네 편의점의 주인인 동빈이는 N개으 ㅣ동전을 가지고 있습니다. 이 때 N개의 동전을 이용하여 만들 수 없는 양의 정수 금액 중 최솟값을 구하는 프로그램을 작성하세요 <br>\n",
        "예를 들어 N=5이고, 각 동전이 각각 3원, 2원, 1원, 1원, 9원짜리 동전이라고 가정합니다. 이 때 동빈이가 만들 수 없는 양의 정수 금액 중 최솟값은 8원입니다.\n",
        "도 다른 예시로, N=3 이고, 각 동전이 각각 3원, 5원, 7원짜리 동전이이라고 가정하면, 이때의 최솟값은 1원입니다.<br>\n",
        "## 입력조건\n",
        "> 1<= N <= 1,000 <br>\n",
        "1 <= len(coins) <= 1000\n",
        "## 출력 조건\n",
        ">주어진 coins 들로 만들 수 없는 금액을 반환합니다.\n",
        "## 생각해보기\n",
        "> coin들을 오름차순으로 정렬한 후 tmp를 1로 설정한다. 그런다음 tmp에 coin들을 더해나갔을 때 해당 값을 주어진 코인들로 만들 수 없을 때 반복문을 탈출하고 그때의 tmp 값을 반환한다."
      ],
      "metadata": {
        "id": "2Hy-Tq3bED5n"
      }
    },
    {
      "cell_type": "code",
      "source": [
        "def solution5(coins):\n",
        "  coins.sort() \n",
        "\n",
        "  tmp = 1\n",
        "  for i in coins:\n",
        "    if tmp < i:\n",
        "      break\n",
        "    tmp += i\n",
        "    \n",
        "  \n",
        "  return tmp\n"
      ],
      "metadata": {
        "id": "25fIlcUdyfeG"
      },
      "execution_count": null,
      "outputs": []
    },
    {
      "cell_type": "code",
      "source": [
        "solution5([3,2,1,1,9])"
      ],
      "metadata": {
        "colab": {
          "base_uri": "https://localhost:8080/"
        },
        "id": "4BF8OF2y2AfO",
        "outputId": "ecccdd3f-ec50-4b49-c238-ea1416a6b747"
      },
      "execution_count": null,
      "outputs": [
        {
          "output_type": "execute_result",
          "data": {
            "text/plain": [
              "8"
            ]
          },
          "metadata": {},
          "execution_count": 116
        }
      ]
    },
    {
      "cell_type": "markdown",
      "source": [],
      "metadata": {
        "id": "3vxlCgXH3_Lu"
      }
    }
  ]
}