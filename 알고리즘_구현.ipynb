{
  "nbformat": 4,
  "nbformat_minor": 0,
  "metadata": {
    "colab": {
      "provenance": [],
      "authorship_tag": "ABX9TyMak1e+tJQViv2RWdP6tUTA",
      "include_colab_link": true
    },
    "kernelspec": {
      "name": "python3",
      "display_name": "Python 3"
    },
    "language_info": {
      "name": "python"
    }
  },
  "cells": [
    {
      "cell_type": "markdown",
      "metadata": {
        "id": "view-in-github",
        "colab_type": "text"
      },
      "source": [
        "<a href=\"https://colab.research.google.com/github/ggydo59/Algorithms_study/blob/main/%EC%95%8C%EA%B3%A0%EB%A6%AC%EC%A6%98_%EA%B5%AC%ED%98%84.ipynb\" target=\"_parent\"><img src=\"https://colab.research.google.com/assets/colab-badge.svg\" alt=\"Open In Colab\"/></a>"
      ]
    },
    {
      "cell_type": "markdown",
      "source": [
        "  # 럭키 스트레이트\n",
        "  > 게임의 아웃복서 캐릭터는 필살기인 '럭키 스트레이트' 기술이 있습니다. 이 기술은 매우 강력한 대신에 게임 내에서 점수가 특정 조건을 만족할 때만 사용할 수 있습니다. <br>\n",
        "특정 조건이란 현재 캐릭터의 점수를 N이라고 할 때 자릿수를 기준으로 점수 N을 반으로 나누어 왼쪽 부분의 각 자릿수의 합과 오른쪽 부분의 각 자리숫의 합은 1 + 2 + 3, 오른쪽 부분의 각 자릿수 합은 4 + 0 + 2 이므로 두 합이 6으로 동일하여 럭키 스트레이트를 사용할 수 있습니다.<br>\n",
        "현재 점수 N이 주어지면 럭키 스트레이트를 사용할 수 있는 상태인지 아닌지를 알려주는 프로그램을 작성하세요.\n",
        "## 입력조건\n",
        "> 1 <= N <= 99,999,999 인 자릿수의 개수가 짝수인 형태로만 주어집니다.\n",
        "## 출력조건\n",
        "> 럭키 스트레이트를 사용할 수있으면 \"LUCKY\"를 사용할 수 없다면 \"READY\"를 출력합니다.\n",
        "## 생각해보기\n",
        "> N의 크기가 1억 이하이므로 완전 탐색을  활용하여 풀 수 있을 것 같다. 형변환과 인덱스, 반복문을 활용한다."
      ],
      "metadata": {
        "id": "r0yMwWvxzw6E"
      }
    },
    {
      "cell_type": "code",
      "source": [
        "def solution1(N):\n",
        "  left, right = 0,0\n",
        "  i, l = 0, len(N)\n",
        "  while i < l:\n",
        "    if i < l//2:\n",
        "      left += int(N[i])\n",
        "    else:\n",
        "      right += int(N[i])\n",
        "    i += 1\n",
        "  \n",
        "  return \"LUCKY\" if left == right else \"READY\"\n"
      ],
      "metadata": {
        "id": "AXGQHoZe1EQ3"
      },
      "execution_count": 61,
      "outputs": []
    },
    {
      "cell_type": "code",
      "source": [
        "solution1(\"7755\")"
      ],
      "metadata": {
        "colab": {
          "base_uri": "https://localhost:8080/",
          "height": 35
        },
        "id": "EuzN0GPw123B",
        "outputId": "96984ab7-5802-4161-a044-6e3bddea9cdd"
      },
      "execution_count": 63,
      "outputs": [
        {
          "output_type": "execute_result",
          "data": {
            "text/plain": [
              "'READY'"
            ],
            "application/vnd.google.colaboratory.intrinsic+json": {
              "type": "string"
            }
          },
          "metadata": {},
          "execution_count": 63
        }
      ]
    },
    {
      "cell_type": "code",
      "source": [
        "solution1(\"123402\")"
      ],
      "metadata": {
        "colab": {
          "base_uri": "https://localhost:8080/",
          "height": 35
        },
        "id": "45wioIZ92JdF",
        "outputId": "5b217921-fbbd-415d-fa37-914e28b1bec6"
      },
      "execution_count": 65,
      "outputs": [
        {
          "output_type": "execute_result",
          "data": {
            "text/plain": [
              "'LUCKY'"
            ],
            "application/vnd.google.colaboratory.intrinsic+json": {
              "type": "string"
            }
          },
          "metadata": {},
          "execution_count": 65
        }
      ]
    },
    {
      "cell_type": "code",
      "source": [
        "solution1(\"45678998765432\")"
      ],
      "metadata": {
        "colab": {
          "base_uri": "https://localhost:8080/",
          "height": 35
        },
        "id": "Y40JjcsB2NxR",
        "outputId": "68d5e373-bc2e-4f49-e98a-7967fe5e607e"
      },
      "execution_count": 67,
      "outputs": [
        {
          "output_type": "execute_result",
          "data": {
            "text/plain": [
              "'READY'"
            ],
            "application/vnd.google.colaboratory.intrinsic+json": {
              "type": "string"
            }
          },
          "metadata": {},
          "execution_count": 67
        }
      ]
    },
    {
      "cell_type": "markdown",
      "source": [
        "# 문자열 재정렬\n",
        "> 알파벳 대문자와 숫자로만 구성된 문자열이 입력으로 주어집니다. 이 때 모든 알파벳을 오름차순으로 정렬하여 이어서 출력한 뒤에, 그 뒤에 모든 숫자를 더한 값을 이어서 출력합니다.<br>\n",
        "예를 들면 KIKA5CB7 이라는 값이 들어오면 ABCKK13을 출력합니다.\n",
        "## 입력조건\n",
        "> 문자열 S가 주어집니다. (1 <= len(S) <= 10,000)\n",
        "## 출력조건\n",
        "> 문제에서 요구하는 정답을 출력합니다.\n",
        "## 생각해보기\n",
        "> 문자열을 순회하면서, 영문자와 숫자를 분리한 후에 영문자는 오름차순으로 정렬하고, 숫자는 모두 더한 다음에 다시 붙여서 출력한다."
      ],
      "metadata": {
        "id": "g_o95KtdVVza"
      }
    },
    {
      "cell_type": "code",
      "source": [
        "def solution2(S):\n",
        "  num, c = 0, []\n",
        "  for i in S:\n",
        "    if i.isdigit():\n",
        "      num += int(i)\n",
        "    elif i.isalpha():\n",
        "      c.append(i)\n",
        "  \n",
        "  return ''.join(c.sorted()) + str(num)\n",
        "\n"
      ],
      "metadata": {
        "id": "USH09iutYUMI"
      },
      "execution_count": 76,
      "outputs": []
    },
    {
      "cell_type": "code",
      "source": [
        "solution2(\"K1KA5CB7\")"
      ],
      "metadata": {
        "colab": {
          "base_uri": "https://localhost:8080/",
          "height": 35
        },
        "id": "Xjd0tH_uY5Et",
        "outputId": "1fa00331-8633-4c26-ab24-7b8be1f9224a"
      },
      "execution_count": 77,
      "outputs": [
        {
          "output_type": "execute_result",
          "data": {
            "text/plain": [
              "'ABCKK13'"
            ],
            "application/vnd.google.colaboratory.intrinsic+json": {
              "type": "string"
            }
          },
          "metadata": {},
          "execution_count": 77
        }
      ]
    },
    {
      "cell_type": "code",
      "source": [
        "solution2(\"AJKDLSI412K4JSJ9D\")"
      ],
      "metadata": {
        "colab": {
          "base_uri": "https://localhost:8080/",
          "height": 35
        },
        "id": "sFSPkJEdZtfS",
        "outputId": "620f5e0f-ff8f-4e78-9d8e-5fdb92df1a70"
      },
      "execution_count": 78,
      "outputs": [
        {
          "output_type": "execute_result",
          "data": {
            "text/plain": [
              "'ADDIJJJKKLSS20'"
            ],
            "application/vnd.google.colaboratory.intrinsic+json": {
              "type": "string"
            }
          },
          "metadata": {},
          "execution_count": 78
        }
      ]
    },
    {
      "cell_type": "markdown",
      "source": [
        "# 문자열 압축\n",
        "> "
      ],
      "metadata": {
        "id": "1f7FygpladFA"
      }
    },
    {
      "cell_type": "code",
      "source": [
        "\n",
        "\n",
        "def solution3(s):\n",
        "  l = len(s)  \n",
        "  answer = l\n",
        "  for i in range(1, l//2+1):\n",
        "    tmp = \"\"\n",
        "    cnt = 0\n",
        "    pre_str = s[:i]\n",
        "    for j in range(0, l, i):\n",
        "      target = s[j:j+i]\n",
        "      if target == pre_str:\n",
        "        cnt += 1\n",
        "      else:          \n",
        "        tmp += str(cnt) + pre_str if cnt > 1 else pre_str\n",
        "        cnt = 1\n",
        "        pre_str = target\n",
        "    tmp += str(cnt) + pre_str if cnt > 1 else pre_str\n",
        "\n",
        "    answer = min(answer, len(tmp))\n",
        "      \n",
        "  return answer\n",
        "      \n"
      ],
      "metadata": {
        "id": "3mYWcg6fbpbk"
      },
      "execution_count": 123,
      "outputs": []
    },
    {
      "cell_type": "code",
      "source": [
        "a = [\"aabbaccc\",\n",
        "\"ababcdcdababcdcd\",\n",
        "\"abcabcdede\",\t\n",
        "\"abcabcabcabcdededededede\",\n",
        "\"xababcdcdababcdcd\"]"
      ],
      "metadata": {
        "id": "f1g3zPy-dxZR"
      },
      "execution_count": 94,
      "outputs": []
    },
    {
      "cell_type": "code",
      "source": [
        "solution3(b)"
      ],
      "metadata": {
        "colab": {
          "base_uri": "https://localhost:8080/"
        },
        "id": "TdSjjMkldtaF",
        "outputId": "4ce6317e-4a70-4723-e639-f1dd036ef15c"
      },
      "execution_count": 127,
      "outputs": [
        {
          "output_type": "execute_result",
          "data": {
            "text/plain": [
              "7"
            ]
          },
          "metadata": {},
          "execution_count": 127
        }
      ]
    },
    {
      "cell_type": "markdown",
      "source": [
        "# 자물쇠와 열쇠\n",
        "> "
      ],
      "metadata": {
        "id": "hl1vgruxbbSe"
      }
    },
    {
      "cell_type": "code",
      "source": [
        "### 2차원 배열 90도 회전\n",
        "def rotate_90(a):\n",
        "    n, m = len(a), len(a[0])\n",
        "    res = [[0]*n for _ in range(m)]\n",
        "    for i in range(n):\n",
        "        for j in range(m):\n",
        "            res[j][(n-i-1)] = a[i][j]\n",
        "    return res\n",
        "\n",
        "### 가운데 부분이 모두 1로 채워져 있는지 확인\n",
        "def check(new_lock):\n",
        "    length = len(new_lock) // 3\n",
        "    for i in range(length, length * 2):\n",
        "        for j in range(length,length * 2):\n",
        "            if new_lock[i][j] != 1:\n",
        "                return False\n",
        "    return True\n",
        "\n",
        "\n",
        "def solution4(key,lock):\n",
        "    n, m = len(lock), len(key)\n",
        "    # 자물쇠 3배 확장\n",
        "    new_lock = [[0] * (n*3) for _ in range(n*3)]\n",
        "\n",
        "    # 가운데 부분에 자물쇠 부분 채워넣음\n",
        "    for i in range(n):\n",
        "        for j in range(n):\n",
        "            new_lock[i+n][j+n] = lock[i][j]\n",
        "\n",
        "    # 90도씩 회전 시키고 n*2 부분까지 한 칸씩 이동한 후 매 반복마다 자물쇠 부분이 알맞게 채워지는지 확인\n",
        "    for rotate in range(4):\n",
        "        key = rotate_90(key) # 90도 회전\n",
        "\n",
        "        for x in range(n * 2):  \n",
        "            for y in range(n * 2): # 이동\n",
        "                for i in range(m): \n",
        "                    for j in range(m): # 자물쇠에 열쇠 채우기\n",
        "                        new_lock[x+i][y+j] += key[i][j]\n",
        "\n",
        "                if check(new_lock) == True: # 자물쇠가 올바르게 채워졌는지 확인\n",
        "                    return True\n",
        "\n",
        "                for i in range(m): # 자물쇠가 제대로 안 채워졌으므로 다시 열쇠 빼기\n",
        "                    for j in range(m):\n",
        "                        new_lock[x+i][y+j] -= key[i][j]\n",
        "    return False # 모든 반복을 돌아도 if 문을 만족하지 못했으므로 False 반환\n",
        "\n",
        "\n",
        "\n",
        "  \n",
        "\n"
      ],
      "metadata": {
        "id": "ni0r0ZusgGxd"
      },
      "execution_count": 147,
      "outputs": []
    },
    {
      "cell_type": "code",
      "source": [
        "solution4([[0, 0, 0], [1, 0, 0], [0, 1, 1]],\t[[1, 1, 1], [1, 1, 0], [1, 0, 1]])"
      ],
      "metadata": {
        "colab": {
          "base_uri": "https://localhost:8080/"
        },
        "id": "tZmKT3kYiaUa",
        "outputId": "33bfcc63-b15f-434e-8d07-3a6312fb77fa"
      },
      "execution_count": 148,
      "outputs": [
        {
          "output_type": "execute_result",
          "data": {
            "text/plain": [
              "True"
            ]
          },
          "metadata": {},
          "execution_count": 148
        }
      ]
    }
  ]
}